{
 "cells": [
  {
   "cell_type": "code",
   "execution_count": 1,
   "metadata": {
    "collapsed": true
   },
   "outputs": [],
   "source": [
    "import nltk"
   ]
  },
  {
   "cell_type": "code",
   "execution_count": 2,
   "metadata": {
    "collapsed": false
   },
   "outputs": [
    {
     "name": "stdout",
     "output_type": "stream",
     "text": [
      "*** Introductory Examples for the NLTK Book ***\n",
      "Loading text1, ..., text9 and sent1, ..., sent9\n",
      "Type the name of the text or sentence to view it.\n",
      "Type: 'texts()' or 'sents()' to list the materials.\n",
      "text1: Moby Dick by Herman Melville 1851\n",
      "text2: Sense and Sensibility by Jane Austen 1811\n",
      "text3: The Book of Genesis\n",
      "text4: Inaugural Address Corpus\n",
      "text5: Chat Corpus\n",
      "text6: Monty Python and the Holy Grail\n",
      "text7: Wall Street Journal\n",
      "text8: Personals Corpus\n",
      "text9: The Man Who Was Thursday by G . K . Chesterton 1908\n"
     ]
    }
   ],
   "source": [
    "from nltk.book import *"
   ]
  },
  {
   "cell_type": "code",
   "execution_count": 3,
   "metadata": {
    "collapsed": false
   },
   "outputs": [
    {
     "data": {
      "text/plain": [
       "<Text: Moby Dick by Herman Melville 1851>"
      ]
     },
     "execution_count": 3,
     "metadata": {},
     "output_type": "execute_result"
    }
   ],
   "source": [
    "text1 #第一本书《白鲸记》"
   ]
  },
  {
   "cell_type": "code",
   "execution_count": 4,
   "metadata": {
    "collapsed": false
   },
   "outputs": [
    {
     "name": "stdout",
     "output_type": "stream",
     "text": [
      "Displaying 9 of 9 matches:\n",
      "king over the bulwarks of ships from China ; some high aloft in the rigging , a\n",
      "h it overwhelmed all the millions in China . He lives on the sea , as prairie c\n",
      "ther , dropped off ; I pound it so . CHINA SAILOR . Rattle thy teeth , then , a\n",
      "ian Gulf , or in the Bengal Bay , or China Seas , or in any other waters haunte\n",
      "- Ho , or whatever they call it , in China , four or five laborers on the foot \n",
      "f Sunda , chiefly , vessels bound to China from the west , emerge into the Chin\n",
      "hina from the west , emerge into the China seas . Those narrow straits of Sunda\n",
      ", while other ships may have gone to China from New York , and back again , tou\n",
      "one of the tropical outlets from the China waters into the Pacific . And so Sta\n"
     ]
    }
   ],
   "source": [
    "text1.concordance(\"china\")  #第一本书中china的所有match"
   ]
  },
  {
   "cell_type": "code",
   "execution_count": 5,
   "metadata": {
    "collapsed": false,
    "scrolled": true
   },
   "outputs": [
    {
     "name": "stdout",
     "output_type": "stream",
     "text": [
      "the him oriental and all hand out which for case thee there deep\n",
      "length us me life head above greenland\n"
     ]
    }
   ],
   "source": [
    "text1.similar(\"china\") #和china出现在相似上下文的单词,即china的近义词"
   ]
  },
  {
   "cell_type": "code",
   "execution_count": 6,
   "metadata": {
    "collapsed": false
   },
   "outputs": [
    {
     "name": "stdout",
     "output_type": "stream",
     "text": [
      "a_deal a_whale the_god a_man too_a a_christian as_a so_a a_long\n"
     ]
    }
   ],
   "source": [
    "text1.common_contexts(['great','good']) #单词出现在相同上下文的情境"
   ]
  },
  {
   "cell_type": "code",
   "execution_count": 7,
   "metadata": {
    "collapsed": false
   },
   "outputs": [
    {
     "data": {
      "text/plain": [
       "<Text: Inaugural Address Corpus>"
      ]
     },
     "execution_count": 7,
     "metadata": {},
     "output_type": "execute_result"
    }
   ],
   "source": [
    "text4 #就职演说语料库"
   ]
  },
  {
   "cell_type": "code",
   "execution_count": 8,
   "metadata": {
    "collapsed": false
   },
   "outputs": [
    {
     "data": {
      "image/png": "[encoded data removed]",
      "text/plain": [
       "<matplotlib.figure.Figure at 0x7f7e532c8828>"
      ]
     },
     "metadata": {},
     "output_type": "display_data"
    }
   ],
   "source": [
    "text4.dispersion_plot(['citizens','democracy','freedom','duties','America'])"
   ]
  },
  {
   "cell_type": "markdown",
   "metadata": {},
   "source": [
    "# 上面是词汇随时间推移的分布图"
   ]
  },
  {
   "cell_type": "code",
   "execution_count": 9,
   "metadata": {
    "collapsed": false
   },
   "outputs": [],
   "source": [
    "text4.generate('me')  #.generate()失效"
   ]
  },
  {
   "cell_type": "code",
   "execution_count": 10,
   "metadata": {
    "collapsed": false
   },
   "outputs": [
    {
     "data": {
      "text/plain": [
       "260819"
      ]
     },
     "execution_count": 10,
     "metadata": {},
     "output_type": "execute_result"
    }
   ],
   "source": [
    "len(text1)  #单词数  包括了标点符号"
   ]
  },
  {
   "cell_type": "code",
   "execution_count": 11,
   "metadata": {
    "collapsed": false
   },
   "outputs": [
    {
     "data": {
      "text/plain": [
       "19317"
      ]
     },
     "execution_count": 11,
     "metadata": {},
     "output_type": "execute_result"
    }
   ],
   "source": [
    "len(set(text1)) #不重复的单词数"
   ]
  },
  {
   "cell_type": "code",
   "execution_count": 12,
   "metadata": {
    "collapsed": false
   },
   "outputs": [
    {
     "data": {
      "text/plain": [
       "13.502044830977896"
      ]
     },
     "execution_count": 12,
     "metadata": {},
     "output_type": "execute_result"
    }
   ],
   "source": [
    "len(text1)/len(set(text1))  # 平均每个单词被用到的次数"
   ]
  },
  {
   "cell_type": "code",
   "execution_count": 13,
   "metadata": {
    "collapsed": false
   },
   "outputs": [
    {
     "data": {
      "text/plain": [
       "<Text: Chat Corpus>"
      ]
     },
     "execution_count": 13,
     "metadata": {},
     "output_type": "execute_result"
    }
   ],
   "source": [
    "text5  #聊天语料库"
   ]
  },
  {
   "cell_type": "code",
   "execution_count": 14,
   "metadata": {
    "collapsed": false
   },
   "outputs": [
    {
     "data": {
      "text/plain": [
       "704"
      ]
     },
     "execution_count": 14,
     "metadata": {},
     "output_type": "execute_result"
    }
   ],
   "source": [
    "text5.count('lol')  #lol共出现704次"
   ]
  },
  {
   "cell_type": "code",
   "execution_count": 15,
   "metadata": {
    "collapsed": false
   },
   "outputs": [
    {
     "data": {
      "text/plain": [
       "0.015640968673628082"
      ]
     },
     "execution_count": 15,
     "metadata": {},
     "output_type": "execute_result"
    }
   ],
   "source": [
    "text5.count('lol')/len(text5)  #占比1.5%"
   ]
  },
  {
   "cell_type": "code",
   "execution_count": 16,
   "metadata": {
    "collapsed": true
   },
   "outputs": [],
   "source": [
    "def lexical_diversity(text):\n",
    "    return len(text)/len(set(text))\n",
    "\n",
    "def percentage(text,word):\n",
    "    return (str(100*text.count(word)/len(text)) + '%')"
   ]
  },
  {
   "cell_type": "code",
   "execution_count": 17,
   "metadata": {
    "collapsed": false
   },
   "outputs": [
    {
     "data": {
      "text/plain": [
       "'1.5640968673628082%'"
      ]
     },
     "execution_count": 17,
     "metadata": {},
     "output_type": "execute_result"
    }
   ],
   "source": [
    "percentage(text5,'lol')   #写了个函数实现14-15行的操作"
   ]
  },
  {
   "cell_type": "code",
   "execution_count": 18,
   "metadata": {
    "collapsed": false
   },
   "outputs": [
    {
     "data": {
      "text/plain": [
       "['Call', 'me', 'Ishmael', '.']"
      ]
     },
     "execution_count": 18,
     "metadata": {},
     "output_type": "execute_result"
    }
   ],
   "source": [
    "sent1  #这是text1的开头句"
   ]
  },
  {
   "cell_type": "code",
   "execution_count": null,
   "metadata": {
    "collapsed": false,
    "scrolled": true
   },
   "outputs": [],
   "source": []
  },
  {
   "cell_type": "code",
   "execution_count": 19,
   "metadata": {
    "collapsed": true
   },
   "outputs": [],
   "source": [
    "fdist1 = FreqDist(text1)  #《白鲸记》分词统计"
   ]
  },
  {
   "cell_type": "code",
   "execution_count": 20,
   "metadata": {
    "collapsed": false
   },
   "outputs": [
    {
     "data": {
      "text/plain": [
       "FreqDist({'[': 3,\n",
       "          'Moby': 84,\n",
       "          'Dick': 84,\n",
       "          'by': 1137,\n",
       "          'Herman': 1,\n",
       "          'Melville': 1,\n",
       "          '1851': 3,\n",
       "          ']': 1,\n",
       "          'ETYMOLOGY': 1,\n",
       "          '.': 6862,\n",
       "          '(': 210,\n",
       "          'Supplied': 2,\n",
       "          'a': 4569,\n",
       "          'Late': 1,\n",
       "          'Consumptive': 1,\n",
       "          'Usher': 2,\n",
       "          'to': 4542,\n",
       "          'Grammar': 2,\n",
       "          'School': 1,\n",
       "          ')': 78,\n",
       "          'The': 612,\n",
       "          'pale': 18,\n",
       "          '--': 1070,\n",
       "          'threadbare': 1,\n",
       "          'in': 3916,\n",
       "          'coat': 28,\n",
       "          ',': 18713,\n",
       "          'heart': 90,\n",
       "          'body': 110,\n",
       "          'and': 6024,\n",
       "          'brain': 37,\n",
       "          ';': 4072,\n",
       "          'I': 2124,\n",
       "          'see': 253,\n",
       "          'him': 1058,\n",
       "          'now': 646,\n",
       "          'He': 230,\n",
       "          'was': 1632,\n",
       "          'ever': 203,\n",
       "          'dusting': 2,\n",
       "          'his': 2459,\n",
       "          'old': 436,\n",
       "          'lexicons': 1,\n",
       "          'grammars': 2,\n",
       "          'with': 1659,\n",
       "          'queer': 44,\n",
       "          'handkerchief': 5,\n",
       "          'mockingly': 1,\n",
       "          'embellished': 3,\n",
       "          'all': 1462,\n",
       "          'the': 13721,\n",
       "          'gay': 13,\n",
       "          'flags': 1,\n",
       "          'of': 6536,\n",
       "          'known': 80,\n",
       "          'nations': 12,\n",
       "          'world': 173,\n",
       "          'loved': 3,\n",
       "          'dust': 10,\n",
       "          'it': 2209,\n",
       "          'somehow': 43,\n",
       "          'mildly': 10,\n",
       "          'reminded': 4,\n",
       "          'mortality': 1,\n",
       "          '\"': 1478,\n",
       "          'While': 30,\n",
       "          'you': 841,\n",
       "          'take': 118,\n",
       "          'hand': 205,\n",
       "          'school': 9,\n",
       "          'others': 37,\n",
       "          'teach': 5,\n",
       "          'them': 471,\n",
       "          'what': 442,\n",
       "          'name': 69,\n",
       "          'whale': 906,\n",
       "          '-': 2552,\n",
       "          'fish': 133,\n",
       "          'is': 1695,\n",
       "          'be': 1030,\n",
       "          'called': 116,\n",
       "          'our': 199,\n",
       "          'tongue': 11,\n",
       "          'leaving': 38,\n",
       "          'out': 529,\n",
       "          'through': 227,\n",
       "          'ignorance': 10,\n",
       "          'letter': 12,\n",
       "          'H': 2,\n",
       "          'which': 640,\n",
       "          'almost': 186,\n",
       "          'alone': 37,\n",
       "          'maketh': 5,\n",
       "          'signification': 1,\n",
       "          'word': 76,\n",
       "          'deliver': 3,\n",
       "          'that': 2982,\n",
       "          'not': 1103,\n",
       "          'true': 73,\n",
       "          '.\"': 489,\n",
       "          'HACKLUYT': 1,\n",
       "          'WHALE': 38,\n",
       "          '...': 11,\n",
       "          'Sw': 1,\n",
       "          'Dan': 4,\n",
       "          'HVAL': 1,\n",
       "          'This': 107,\n",
       "          'animal': 16,\n",
       "          'named': 11,\n",
       "          'from': 1052,\n",
       "          'roundness': 1,\n",
       "          'or': 697,\n",
       "          'rolling': 35,\n",
       "          'for': 1414,\n",
       "          'HVALT': 2,\n",
       "          'arched': 10,\n",
       "          'vaulted': 2,\n",
       "          'WEBSTER': 2,\n",
       "          \"'\": 2684,\n",
       "          'S': 63,\n",
       "          'DICTIONARY': 3,\n",
       "          'It': 310,\n",
       "          'more': 501,\n",
       "          'immediately': 14,\n",
       "          'Dut': 1,\n",
       "          'Ger': 1,\n",
       "          'WALLEN': 1,\n",
       "          'A': 167,\n",
       "          'WALW': 1,\n",
       "          'IAN': 1,\n",
       "          'roll': 16,\n",
       "          'wallow': 3,\n",
       "          'RICHARDSON': 1,\n",
       "          'KETOS': 1,\n",
       "          'GREEK': 1,\n",
       "          'CETUS': 1,\n",
       "          'LATIN': 1,\n",
       "          'WHOEL': 1,\n",
       "          'ANGLO': 1,\n",
       "          'SAXON': 1,\n",
       "          'DANISH': 2,\n",
       "          'WAL': 1,\n",
       "          'DUTCH': 2,\n",
       "          'HWAL': 1,\n",
       "          'SWEDISH': 1,\n",
       "          'ICELANDIC': 1,\n",
       "          'ENGLISH': 3,\n",
       "          'BALEINE': 1,\n",
       "          'FRENCH': 5,\n",
       "          'BALLENA': 1,\n",
       "          'SPANISH': 4,\n",
       "          'PEKEE': 2,\n",
       "          'NUEE': 4,\n",
       "          'FEGEE': 1,\n",
       "          'ERROMANGOAN': 1,\n",
       "          'EXTRACTS': 2,\n",
       "          'Sub': 7,\n",
       "          'Librarian': 1,\n",
       "          ').': 15,\n",
       "          'will': 379,\n",
       "          'seen': 161,\n",
       "          'this': 1280,\n",
       "          'mere': 42,\n",
       "          'painstaking': 1,\n",
       "          'burrower': 1,\n",
       "          'grub': 1,\n",
       "          'worm': 5,\n",
       "          'poor': 106,\n",
       "          'devil': 51,\n",
       "          'appears': 7,\n",
       "          'have': 760,\n",
       "          'gone': 58,\n",
       "          'long': 318,\n",
       "          'Vaticans': 1,\n",
       "          'street': 10,\n",
       "          'stalls': 1,\n",
       "          'earth': 46,\n",
       "          'picking': 4,\n",
       "          'up': 505,\n",
       "          'whatever': 44,\n",
       "          'random': 5,\n",
       "          'allusions': 7,\n",
       "          'whales': 237,\n",
       "          'he': 1661,\n",
       "          'could': 215,\n",
       "          'anyways': 2,\n",
       "          'find': 55,\n",
       "          'any': 320,\n",
       "          'book': 38,\n",
       "          'whatsoever': 5,\n",
       "          'sacred': 7,\n",
       "          'profane': 4,\n",
       "          'Therefore': 11,\n",
       "          'must': 282,\n",
       "          'every': 222,\n",
       "          'case': 69,\n",
       "          'at': 1231,\n",
       "          'least': 75,\n",
       "          'higgledy': 1,\n",
       "          'piggledy': 1,\n",
       "          'statements': 4,\n",
       "          'however': 80,\n",
       "          'authentic': 3,\n",
       "          'these': 381,\n",
       "          'extracts': 4,\n",
       "          'veritable': 4,\n",
       "          'gospel': 1,\n",
       "          'cetology': 4,\n",
       "          'Far': 4,\n",
       "          'As': 120,\n",
       "          'touching': 45,\n",
       "          'ancient': 28,\n",
       "          'authors': 3,\n",
       "          'generally': 30,\n",
       "          'as': 1620,\n",
       "          'well': 174,\n",
       "          'poets': 3,\n",
       "          'here': 272,\n",
       "          'appearing': 3,\n",
       "          'are': 586,\n",
       "          'solely': 6,\n",
       "          'valuable': 11,\n",
       "          'entertaining': 2,\n",
       "          'affording': 2,\n",
       "          'glancing': 12,\n",
       "          'bird': 17,\n",
       "          's': 1739,\n",
       "          'eye': 88,\n",
       "          'view': 46,\n",
       "          'has': 287,\n",
       "          'been': 415,\n",
       "          'promiscuously': 1,\n",
       "          'said': 302,\n",
       "          'thought': 149,\n",
       "          'fancied': 9,\n",
       "          'sung': 2,\n",
       "          'Leviathan': 64,\n",
       "          'many': 161,\n",
       "          'generations': 6,\n",
       "          'including': 8,\n",
       "          'own': 205,\n",
       "          'So': 147,\n",
       "          'fare': 10,\n",
       "          'thee': 129,\n",
       "          'whose': 86,\n",
       "          'commentator': 1,\n",
       "          'am': 86,\n",
       "          'Thou': 39,\n",
       "          'belongest': 1,\n",
       "          'hopeless': 8,\n",
       "          'sallow': 1,\n",
       "          'tribe': 9,\n",
       "          'no': 484,\n",
       "          'wine': 12,\n",
       "          'warm': 24,\n",
       "          'whom': 43,\n",
       "          'even': 181,\n",
       "          'Pale': 1,\n",
       "          'Sherry': 1,\n",
       "          'would': 421,\n",
       "          'too': 184,\n",
       "          'rosy': 2,\n",
       "          'strong': 34,\n",
       "          'but': 1113,\n",
       "          'one': 889,\n",
       "          'sometimes': 81,\n",
       "          'loves': 1,\n",
       "          'sit': 16,\n",
       "          'feel': 56,\n",
       "          'devilish': 9,\n",
       "          'grow': 24,\n",
       "          'convivial': 4,\n",
       "          'upon': 538,\n",
       "          'tears': 6,\n",
       "          'say': 237,\n",
       "          'bluntly': 1,\n",
       "          'full': 121,\n",
       "          'eyes': 155,\n",
       "          'empty': 22,\n",
       "          'glasses': 10,\n",
       "          'altogether': 29,\n",
       "          'unpleasant': 3,\n",
       "          'sadness': 2,\n",
       "          'Give': 15,\n",
       "          'Subs': 1,\n",
       "          '!': 1269,\n",
       "          'For': 197,\n",
       "          'how': 187,\n",
       "          'much': 218,\n",
       "          'pains': 15,\n",
       "          'ye': 460,\n",
       "          'please': 12,\n",
       "          'so': 918,\n",
       "          'shall': 84,\n",
       "          'go': 182,\n",
       "          'thankless': 1,\n",
       "          'Would': 11,\n",
       "          'clear': 39,\n",
       "          'Hampton': 1,\n",
       "          'Court': 1,\n",
       "          'Tuileries': 3,\n",
       "          'But': 705,\n",
       "          'gulp': 2,\n",
       "          'down': 364,\n",
       "          'your': 240,\n",
       "          'hie': 1,\n",
       "          'aloft': 53,\n",
       "          'royal': 29,\n",
       "          'mast': 124,\n",
       "          'hearts': 29,\n",
       "          'friends': 16,\n",
       "          'who': 319,\n",
       "          'before': 293,\n",
       "          'clearing': 4,\n",
       "          'seven': 15,\n",
       "          'storied': 4,\n",
       "          'heavens': 17,\n",
       "          'making': 45,\n",
       "          'refugees': 1,\n",
       "          'pampered': 1,\n",
       "          'Gabriel': 20,\n",
       "          'Michael': 1,\n",
       "          'Raphael': 1,\n",
       "          'against': 132,\n",
       "          'coming': 50,\n",
       "          'Here': 49,\n",
       "          'strike': 28,\n",
       "          'splintered': 7,\n",
       "          'together': 64,\n",
       "          'there': 715,\n",
       "          'unsplinterable': 1,\n",
       "          'And': 369,\n",
       "          'God': 132,\n",
       "          'created': 6,\n",
       "          'great': 293,\n",
       "          'GENESIS': 1,\n",
       "          'path': 10,\n",
       "          'shine': 3,\n",
       "          'after': 252,\n",
       "          'One': 28,\n",
       "          'think': 111,\n",
       "          'deep': 69,\n",
       "          'hoary': 2,\n",
       "          'JOB': 1,\n",
       "          'Now': 139,\n",
       "          'Lord': 44,\n",
       "          'had': 767,\n",
       "          'prepared': 12,\n",
       "          'swallow': 10,\n",
       "          'Jonah': 84,\n",
       "          'JONAH': 1,\n",
       "          'There': 147,\n",
       "          'ships': 87,\n",
       "          'thou': 232,\n",
       "          'hast': 19,\n",
       "          'made': 178,\n",
       "          'play': 29,\n",
       "          'therein': 5,\n",
       "          'PSALMS': 2,\n",
       "          'In': 237,\n",
       "          'day': 172,\n",
       "          'sore': 3,\n",
       "          'sword': 23,\n",
       "          'punish': 1,\n",
       "          'piercing': 4,\n",
       "          'serpent': 4,\n",
       "          'crooked': 8,\n",
       "          'slay': 4,\n",
       "          'dragon': 5,\n",
       "          'sea': 433,\n",
       "          'ISAIAH': 1,\n",
       "          'thing': 188,\n",
       "          'soever': 1,\n",
       "          'besides': 20,\n",
       "          'cometh': 1,\n",
       "          'within': 78,\n",
       "          'chaos': 4,\n",
       "          'monster': 49,\n",
       "          'mouth': 60,\n",
       "          'beast': 4,\n",
       "          'boat': 330,\n",
       "          'stone': 18,\n",
       "          'goes': 54,\n",
       "          'incontinently': 1,\n",
       "          'foul': 11,\n",
       "          'perisheth': 1,\n",
       "          'bottomless': 7,\n",
       "          'gulf': 4,\n",
       "          'paunch': 2,\n",
       "          'HOLLAND': 2,\n",
       "          'PLUTARCH': 1,\n",
       "          'MORALS': 1,\n",
       "          'Indian': 57,\n",
       "          'Sea': 22,\n",
       "          'breedeth': 1,\n",
       "          'most': 277,\n",
       "          'biggest': 2,\n",
       "          'fishes': 3,\n",
       "          ':': 162,\n",
       "          'among': 158,\n",
       "          'Whales': 29,\n",
       "          'Whirlpooles': 1,\n",
       "          'Balaene': 1,\n",
       "          'length': 78,\n",
       "          'four': 74,\n",
       "          'acres': 3,\n",
       "          'arpens': 1,\n",
       "          'land': 78,\n",
       "          'PLINY': 1,\n",
       "          'Scarcely': 1,\n",
       "          'we': 413,\n",
       "          'proceeded': 6,\n",
       "          'two': 285,\n",
       "          'days': 80,\n",
       "          'on': 1005,\n",
       "          'when': 553,\n",
       "          'about': 304,\n",
       "          'sunrise': 11,\n",
       "          'other': 412,\n",
       "          'monsters': 9,\n",
       "          'appeared': 10,\n",
       "          'Among': 8,\n",
       "          'former': 20,\n",
       "          'monstrous': 10,\n",
       "          'size': 12,\n",
       "          'came': 130,\n",
       "          'towards': 107,\n",
       "          'us': 228,\n",
       "          'open': 75,\n",
       "          'mouthed': 4,\n",
       "          'raising': 4,\n",
       "          'waves': 48,\n",
       "          'sides': 28,\n",
       "          'beating': 11,\n",
       "          'into': 520,\n",
       "          'foam': 19,\n",
       "          'TOOKE': 1,\n",
       "          'LUCIAN': 1,\n",
       "          'THE': 98,\n",
       "          'TRUE': 1,\n",
       "          'HISTORY': 4,\n",
       "          'visited': 7,\n",
       "          'country': 25,\n",
       "          'also': 88,\n",
       "          'catching': 7,\n",
       "          'horse': 26,\n",
       "          'bones': 48,\n",
       "          'very': 311,\n",
       "          'value': 6,\n",
       "          'their': 612,\n",
       "          'teeth': 47,\n",
       "          'brought': 38,\n",
       "          'some': 578,\n",
       "          'king': 25,\n",
       "          'best': 62,\n",
       "          'were': 680,\n",
       "          'catched': 1,\n",
       "          'forty': 28,\n",
       "          'eight': 24,\n",
       "          'fifty': 33,\n",
       "          'yards': 27,\n",
       "          'six': 31,\n",
       "          'killed': 33,\n",
       "          'sixty': 17,\n",
       "          'OTHER': 2,\n",
       "          'OR': 5,\n",
       "          'OCTHER': 1,\n",
       "          'VERBAL': 1,\n",
       "          'NARRATIVE': 4,\n",
       "          'TAKEN': 1,\n",
       "          'DOWN': 2,\n",
       "          'FROM': 10,\n",
       "          'HIS': 17,\n",
       "          'MOUTH': 1,\n",
       "          'BY': 15,\n",
       "          'KING': 2,\n",
       "          'ALFRED': 1,\n",
       "          'D': 23,\n",
       "          '890': 1,\n",
       "          'whereas': 14,\n",
       "          'things': 132,\n",
       "          'whether': 76,\n",
       "          'vessel': 54,\n",
       "          'enter': 9,\n",
       "          'dreadful': 6,\n",
       "          'lost': 45,\n",
       "          'swallowed': 13,\n",
       "          'gudgeon': 1,\n",
       "          'retires': 1,\n",
       "          'security': 3,\n",
       "          'sleeps': 7,\n",
       "          'MONTAIGNE': 1,\n",
       "          'APOLOGY': 1,\n",
       "          'FOR': 6,\n",
       "          'RAIMOND': 1,\n",
       "          'SEBOND': 1,\n",
       "          'Let': 38,\n",
       "          'fly': 14,\n",
       "          'let': 120,\n",
       "          'Old': 11,\n",
       "          'Nick': 1,\n",
       "          'me': 627,\n",
       "          'if': 421,\n",
       "          'described': 8,\n",
       "          'noble': 44,\n",
       "          'prophet': 13,\n",
       "          'Moses': 2,\n",
       "          'life': 162,\n",
       "          'patient': 6,\n",
       "          'Job': 5,\n",
       "          'RABELAIS': 1,\n",
       "          'liver': 4,\n",
       "          'cartloads': 1,\n",
       "          'STOWE': 1,\n",
       "          'ANNALS': 1,\n",
       "          'seas': 80,\n",
       "          'seethe': 3,\n",
       "          'like': 624,\n",
       "          'boiling': 15,\n",
       "          'pan': 3,\n",
       "          'LORD': 1,\n",
       "          'BACON': 1,\n",
       "          'VERSION': 2,\n",
       "          'OF': 49,\n",
       "          'Touching': 1,\n",
       "          'bulk': 32,\n",
       "          'ork': 1,\n",
       "          'received': 26,\n",
       "          'nothing': 102,\n",
       "          'certain': 87,\n",
       "          'They': 78,\n",
       "          'exceeding': 12,\n",
       "          'fat': 12,\n",
       "          'insomuch': 2,\n",
       "          'an': 582,\n",
       "          'incredible': 9,\n",
       "          'quantity': 13,\n",
       "          'oil': 90,\n",
       "          'extracted': 5,\n",
       "          'IBID': 3,\n",
       "          'LIFE': 2,\n",
       "          'AND': 37,\n",
       "          'DEATH': 1,\n",
       "          'sovereignest': 1,\n",
       "          'parmacetti': 3,\n",
       "          'inward': 4,\n",
       "          'bruise': 1,\n",
       "          'HENRY': 2,\n",
       "          'Very': 11,\n",
       "          'HAMLET': 1,\n",
       "          'Which': 6,\n",
       "          'secure': 12,\n",
       "          'skill': 10,\n",
       "          'leach': 1,\n",
       "          'art': 39,\n",
       "          'Mote': 1,\n",
       "          'availle': 1,\n",
       "          'returne': 1,\n",
       "          'againe': 1,\n",
       "          'To': 62,\n",
       "          'wound': 17,\n",
       "          'worker': 1,\n",
       "          'lowly': 8,\n",
       "          'dart': 24,\n",
       "          'Dinting': 1,\n",
       "          'breast': 7,\n",
       "          'bred': 9,\n",
       "          'restless': 4,\n",
       "          'paine': 1,\n",
       "          'Like': 23,\n",
       "          'wounded': 9,\n",
       "          'shore': 23,\n",
       "          'flies': 7,\n",
       "          'thro': 1,\n",
       "          'maine': 1,\n",
       "          'FAERIE': 1,\n",
       "          'QUEEN': 2,\n",
       "          'Immense': 1,\n",
       "          'motion': 17,\n",
       "          'vast': 73,\n",
       "          'bodies': 9,\n",
       "          'can': 220,\n",
       "          'peaceful': 6,\n",
       "          'calm': 41,\n",
       "          'trouble': 11,\n",
       "          'ocean': 71,\n",
       "          'til': 1,\n",
       "          'boil': 2,\n",
       "          'SIR': 4,\n",
       "          'WILLIAM': 2,\n",
       "          'DAVENANT': 1,\n",
       "          'PREFACE': 1,\n",
       "          'TO': 21,\n",
       "          'GONDIBERT': 1,\n",
       "          'What': 174,\n",
       "          'spermacetti': 1,\n",
       "          'men': 236,\n",
       "          'might': 183,\n",
       "          'justly': 3,\n",
       "          'doubt': 32,\n",
       "          'since': 63,\n",
       "          'learned': 25,\n",
       "          'Hosmannus': 1,\n",
       "          'work': 62,\n",
       "          'thirty': 26,\n",
       "          'years': 94,\n",
       "          'saith': 5,\n",
       "          'plainly': 39,\n",
       "          'Nescio': 1,\n",
       "          'quid': 2,\n",
       "          'T': 8,\n",
       "          'BROWNE': 3,\n",
       "          'SPERMA': 2,\n",
       "          'CETI': 2,\n",
       "          'VIDE': 1,\n",
       "          'V': 6,\n",
       "          'E': 5,\n",
       "          'Spencer': 1,\n",
       "          'Talus': 1,\n",
       "          'modern': 18,\n",
       "          'flail': 1,\n",
       "          'threatens': 1,\n",
       "          'ruin': 5,\n",
       "          'ponderous': 13,\n",
       "          'tail': 78,\n",
       "          'Their': 6,\n",
       "          'fixed': 37,\n",
       "          'jav': 1,\n",
       "          'lins': 1,\n",
       "          'side': 208,\n",
       "          'wears': 7,\n",
       "          'back': 151,\n",
       "          'grove': 3,\n",
       "          'pikes': 2,\n",
       "          'WALLER': 1,\n",
       "          'BATTLE': 2,\n",
       "          'SUMMER': 1,\n",
       "          'ISLANDS': 1,\n",
       "          'By': 52,\n",
       "          'Commonwealth': 1,\n",
       "          'State': 4,\n",
       "          '--(': 4,\n",
       "          'Latin': 4,\n",
       "          'Civitas': 1,\n",
       "          'artificial': 5,\n",
       "          'man': 508,\n",
       "          'OPENING': 1,\n",
       "          'SENTENCE': 1,\n",
       "          'HOBBES': 1,\n",
       "          'LEVIATHAN': 1,\n",
       "          'Silly': 1,\n",
       "          'Mansoul': 1,\n",
       "          'without': 154,\n",
       "          'chewing': 1,\n",
       "          'sprat': 1,\n",
       "          'PILGRIM': 1,\n",
       "          'PROGRESS': 1,\n",
       "          'That': 85,\n",
       "          'works': 30,\n",
       "          'Created': 1,\n",
       "          'hugest': 3,\n",
       "          'swim': 20,\n",
       "          'stream': 11,\n",
       "          'PARADISE': 1,\n",
       "          'LOST': 1,\n",
       "          '---\"': 1,\n",
       "          'Hugest': 1,\n",
       "          'living': 73,\n",
       "          'creatures': 34,\n",
       "          'Stretched': 1,\n",
       "          'promontory': 5,\n",
       "          'swims': 8,\n",
       "          'seems': 84,\n",
       "          'moving': 13,\n",
       "          'gills': 4,\n",
       "          'Draws': 1,\n",
       "          'breath': 18,\n",
       "          'spouts': 16,\n",
       "          'mighty': 47,\n",
       "          'water': 185,\n",
       "          'swimming': 29,\n",
       "          'FULLLER': 1,\n",
       "          'PROFANE': 1,\n",
       "          'HOLY': 1,\n",
       "          'STATE': 1,\n",
       "          'close': 54,\n",
       "          'behind': 50,\n",
       "          'lie': 26,\n",
       "          'huge': 29,\n",
       "          'attend': 9,\n",
       "          'prey': 14,\n",
       "          'give': 71,\n",
       "          'chance': 46,\n",
       "          'fry': 3,\n",
       "          'gaping': 3,\n",
       "          'jaws': 30,\n",
       "          'mistake': 9,\n",
       "          'way': 269,\n",
       "          'DRYDEN': 1,\n",
       "          'ANNUS': 1,\n",
       "          'MIRABILIS': 1,\n",
       "          'floating': 24,\n",
       "          'stern': 48,\n",
       "          'ship': 507,\n",
       "          'they': 586,\n",
       "          'cut': 50,\n",
       "          'off': 217,\n",
       "          'head': 335,\n",
       "          'tow': 16,\n",
       "          'near': 69,\n",
       "          'come': 150,\n",
       "          'aground': 1,\n",
       "          'twelve': 16,\n",
       "          'thirteen': 2,\n",
       "          'feet': 125,\n",
       "          'THOMAS': 3,\n",
       "          'EDGE': 1,\n",
       "          'TEN': 1,\n",
       "          'VOYAGES': 3,\n",
       "          'SPITZBERGEN': 1,\n",
       "          'IN': 19,\n",
       "          'PURCHAS': 1,\n",
       "          'saw': 115,\n",
       "          'sporting': 4,\n",
       "          'wantonness': 1,\n",
       "          'fuzzing': 1,\n",
       "          'pipes': 8,\n",
       "          'vents': 1,\n",
       "          'nature': 34,\n",
       "          'placed': 36,\n",
       "          'shoulders': 13,\n",
       "          'HERBERT': 1,\n",
       "          'INTO': 1,\n",
       "          'ASIA': 1,\n",
       "          'AFRICA': 1,\n",
       "          'HARRIS': 2,\n",
       "          'COLL': 2,\n",
       "          'such': 336,\n",
       "          'troops': 2,\n",
       "          'forced': 18,\n",
       "          'proceed': 14,\n",
       "          'deal': 12,\n",
       "          'caution': 2,\n",
       "          'fear': 32,\n",
       "          'should': 181,\n",
       "          'run': 51,\n",
       "          'SCHOUTEN': 1,\n",
       "          'SIXTH': 1,\n",
       "          'CIRCUMNAVIGATION': 1,\n",
       "          'We': 47,\n",
       "          'set': 74,\n",
       "          'sail': 96,\n",
       "          'Elbe': 1,\n",
       "          'wind': 67,\n",
       "          'N': 2,\n",
       "          'Jonas': 3,\n",
       "          'Whale': 282,\n",
       "          'Some': 38,\n",
       "          't': 283,\n",
       "          'fable': 5,\n",
       "          'frequently': 14,\n",
       "          'climb': 4,\n",
       "          'masts': 26,\n",
       "          'first': 210,\n",
       "          'discoverer': 2,\n",
       "          'ducat': 1,\n",
       "          'told': 45,\n",
       "          'taken': 50,\n",
       "          'Shetland': 2,\n",
       "          'above': 56,\n",
       "          'barrel': 5,\n",
       "          'herrings': 1,\n",
       "          'belly': 9,\n",
       "          'harpooneers': 55,\n",
       "          'caught': 44,\n",
       "          'once': 144,\n",
       "          'Spitzbergen': 4,\n",
       "          'white': 191,\n",
       "          'over': 403,\n",
       "          'VOYAGE': 7,\n",
       "          'GREENLAND': 1,\n",
       "          '1671': 2,\n",
       "          'Several': 1,\n",
       "          'coast': 40,\n",
       "          'Fife': 1,\n",
       "          'Anno': 1,\n",
       "          '1652': 1,\n",
       "          'eighty': 4,\n",
       "          'bone': 50,\n",
       "          'kind': 27,\n",
       "          'informed': 4,\n",
       "          '),': 62,\n",
       "          'did': 246,\n",
       "          'afford': 9,\n",
       "          '500': 2,\n",
       "          'weight': 17,\n",
       "          'baleen': 11,\n",
       "          'stand': 83,\n",
       "          'gate': 4,\n",
       "          'garden': 6,\n",
       "          'Pitferren': 1,\n",
       "          'SIBBALD': 1,\n",
       "          'FIFE': 1,\n",
       "          'KINROSS': 1,\n",
       "          'Myself': 1,\n",
       "          'agreed': 3,\n",
       "          'try': 49,\n",
       "          'master': 23,\n",
       "          'kill': 30,\n",
       "          'Sperma': 1,\n",
       "          'ceti': 1,\n",
       "          'never': 195,\n",
       "          'hear': 60,\n",
       "          'sort': 152,\n",
       "          'fierceness': 1,\n",
       "          'swiftness': 6,\n",
       "          'RICHARD': 1,\n",
       "          'STRAFFORD': 1,\n",
       "          'LETTER': 1,\n",
       "          'BERMUDAS': 1,\n",
       "          'PHIL': 1,\n",
       "          'TRANS': 1,\n",
       "          '1668': 1,\n",
       "          'voice': 46,\n",
       "          'obey': 8,\n",
       "          'PRIMER': 1,\n",
       "          'abundance': 4,\n",
       "          'large': 77,\n",
       "          'being': 219,\n",
       "          'those': 297,\n",
       "          'southern': 5,\n",
       "          'may': 230,\n",
       "          'hundred': 50,\n",
       "          'than': 309,\n",
       "          'northward': 4,\n",
       "          'CAPTAIN': 2,\n",
       "          'COWLEY': 1,\n",
       "          'ROUND': 2,\n",
       "          'GLOBE': 4,\n",
       "          '1729': 1,\n",
       "          '\"...': 1,\n",
       "          'frequendy': 1,\n",
       "          'attended': 6,\n",
       "          'insupportable': 1,\n",
       "          'smell': 11,\n",
       "          'bring': 18,\n",
       "          'disorder': 1,\n",
       "          'ULLOA': 1,\n",
       "          'SOUTH': 1,\n",
       "          'AMERICA': 1,\n",
       "          'chosen': 3,\n",
       "          'sylphs': 1,\n",
       "          'special': 15,\n",
       "          'note': 6,\n",
       "          'trust': 4,\n",
       "          'important': 19,\n",
       "          'charge': 10,\n",
       "          'petticoat': 1,\n",
       "          'Oft': 1,\n",
       "          'fold': 6,\n",
       "          'fence': 2,\n",
       "          'fail': 17,\n",
       "          'Tho': 1,\n",
       "          'stuffed': 5,\n",
       "          'hoops': 11,\n",
       "          'armed': 15,\n",
       "          'ribs': 20,\n",
       "          'RAPE': 1,\n",
       "          'LOCK': 1,\n",
       "          'If': 60,\n",
       "          'compare': 7,\n",
       "          'animals': 5,\n",
       "          'respect': 16,\n",
       "          'magnitude': 21,\n",
       "          'abode': 2,\n",
       "          'appear': 6,\n",
       "          'contemptible': 4,\n",
       "          'comparison': 6,\n",
       "          'doubtless': 12,\n",
       "          'largest': 19,\n",
       "          'creation': 7,\n",
       "          'GOLDSMITH': 2,\n",
       "          'NAT': 1,\n",
       "          'HIST': 2,\n",
       "          'write': 5,\n",
       "          'little': 247,\n",
       "          'make': 109,\n",
       "          'speak': 47,\n",
       "          'wales': 1,\n",
       "          'JOHNSON': 1,\n",
       "          'afternoon': 10,\n",
       "          'supposed': 15,\n",
       "          'rock': 14,\n",
       "          'found': 115,\n",
       "          'dead': 90,\n",
       "          'Asiatics': 2,\n",
       "          'then': 571,\n",
       "          'towing': 14,\n",
       "          'ashore': 33,\n",
       "          'seemed': 283,\n",
       "          'endeavor': 4,\n",
       "          'conceal': 2,\n",
       "          'themselves': 59,\n",
       "          'order': 64,\n",
       "          'avoid': 6,\n",
       "          'COOK': 1,\n",
       "          'larger': 9,\n",
       "          'seldom': 24,\n",
       "          'venture': 5,\n",
       "          'attack': 8,\n",
       "          'dread': 12,\n",
       "          'afraid': 15,\n",
       "          'mention': 15,\n",
       "          'names': 12,\n",
       "          'carry': 25,\n",
       "          'dung': 1,\n",
       "          'lime': 1,\n",
       "          'juniper': 1,\n",
       "          'wood': 34,\n",
       "          'articles': 10,\n",
       "          'same': 213,\n",
       "          'boats': 145,\n",
       "          'terrify': 3,\n",
       "          'prevent': 6,\n",
       "          'approach': 5,\n",
       "          'UNO': 1,\n",
       "          'VON': 1,\n",
       "          'TROIL': 1,\n",
       "          'LETTERS': 1,\n",
       "          'ON': 11,\n",
       "          'BANKS': 1,\n",
       "          'SOLANDER': 1,\n",
       "          'ICELAND': 2,\n",
       "          '1772': 1,\n",
       "          'Spermacetti': 2,\n",
       "          'Nantuckois': 1,\n",
       "          'active': 8,\n",
       "          'fierce': 11,\n",
       "          'requires': 7,\n",
       "          'address': 4,\n",
       "          'boldness': 2,\n",
       "          'fishermen': 28,\n",
       "          'JEFFERSON': 1,\n",
       "          'MEMORIAL': 1,\n",
       "          'MINISTER': 1,\n",
       "          '1778': 2,\n",
       "          'pray': 6,\n",
       "          'sir': 143,\n",
       "          'equal': 14,\n",
       "          '?\"': 252,\n",
       "          'EDMUND': 2,\n",
       "          'BURKE': 2,\n",
       "          'REFERENCE': 1,\n",
       "          'PARLIAMENT': 1,\n",
       "          'NANTUCKET': 11,\n",
       "          'FISHERY': 2,\n",
       "          'Spain': 5,\n",
       "          'stranded': 12,\n",
       "          'shores': 7,\n",
       "          'Europe': 5,\n",
       "          'SOMEWHERE': 1,\n",
       "          '.)': 22,\n",
       "          'tenth': 4,\n",
       "          'branch': 4,\n",
       "          'ordinary': 19,\n",
       "          'revenue': 2,\n",
       "          'grounded': 3,\n",
       "          'consideration': 8,\n",
       "          'guarding': 1,\n",
       "          'protecting': 1,\n",
       "          'pirates': 9,\n",
       "          'robbers': 1,\n",
       "          'right': 97,\n",
       "          'sturgeon': 3,\n",
       "          'either': 39,\n",
       "          'thrown': 25,\n",
       "          'property': 7,\n",
       "          'BLACKSTONE': 1,\n",
       "          'Soon': 17,\n",
       "          'sport': 3,\n",
       "          'death': 71,\n",
       "          'crews': 16,\n",
       "          'repair': 3,\n",
       "          'Rodmond': 1,\n",
       "          'unerring': 3,\n",
       "          'o': 16,\n",
       "          'er': 7,\n",
       "          'suspends': 1,\n",
       "          'barbed': 6,\n",
       "          'steel': 32,\n",
       "          'turn': 54,\n",
       "          'attends': 1,\n",
       "          'FALCONER': 1,\n",
       "          'SHIPWRECK': 2,\n",
       "          'Bright': 1,\n",
       "          'shone': 3,\n",
       "          'roofs': 1,\n",
       "          'domes': 1,\n",
       "          'spires': 6,\n",
       "          'rockets': 1,\n",
       "          ...})"
      ]
     },
     "execution_count": 20,
     "metadata": {},
     "output_type": "execute_result"
    }
   ],
   "source": [
    "fdist1   #展示"
   ]
  },
  {
   "cell_type": "code",
   "execution_count": 21,
   "metadata": {
    "collapsed": false
   },
   "outputs": [],
   "source": [
    "voc = sorted(fdist1.items(),key = lambda e: e[1],reverse = True)  #字典里按值排序 , .items()将字典键值对变成了元组列表"
   ]
  },
  {
   "cell_type": "code",
   "execution_count": 22,
   "metadata": {
    "collapsed": false
   },
   "outputs": [
    {
     "data": {
      "text/plain": [
       "[(',', 18713),\n",
       " ('the', 13721),\n",
       " ('.', 6862),\n",
       " ('of', 6536),\n",
       " ('and', 6024),\n",
       " ('a', 4569),\n",
       " ('to', 4542),\n",
       " (';', 4072),\n",
       " ('in', 3916),\n",
       " ('that', 2982),\n",
       " (\"'\", 2684),\n",
       " ('-', 2552),\n",
       " ('his', 2459),\n",
       " ('it', 2209),\n",
       " ('I', 2124),\n",
       " ('s', 1739),\n",
       " ('is', 1695),\n",
       " ('he', 1661),\n",
       " ('with', 1659),\n",
       " ('was', 1632),\n",
       " ('as', 1620),\n",
       " ('\"', 1478),\n",
       " ('all', 1462),\n",
       " ('for', 1414),\n",
       " ('this', 1280),\n",
       " ('!', 1269),\n",
       " ('at', 1231),\n",
       " ('by', 1137),\n",
       " ('but', 1113),\n",
       " ('not', 1103),\n",
       " ('--', 1070),\n",
       " ('him', 1058),\n",
       " ('from', 1052),\n",
       " ('be', 1030),\n",
       " ('on', 1005),\n",
       " ('so', 918),\n",
       " ('whale', 906),\n",
       " ('one', 889),\n",
       " ('you', 841),\n",
       " ('had', 767),\n",
       " ('have', 760),\n",
       " ('there', 715),\n",
       " ('But', 705),\n",
       " ('or', 697),\n",
       " ('were', 680),\n",
       " ('now', 646),\n",
       " ('which', 640),\n",
       " ('?', 637),\n",
       " ('me', 627),\n",
       " ('like', 624)]"
      ]
     },
     "execution_count": 22,
     "metadata": {},
     "output_type": "execute_result"
    }
   ],
   "source": [
    "list(voc)[:50]  #找到最常用的50个词"
   ]
  },
  {
   "cell_type": "code",
   "execution_count": 23,
   "metadata": {
    "collapsed": false
   },
   "outputs": [
    {
     "data": {
      "image/png": "[encoded data removed]",
      "text/plain": [
       "<matplotlib.figure.Figure at 0x7f7e4de07400>"
      ]
     },
     "metadata": {},
     "output_type": "display_data"
    }
   ],
   "source": [
    "fdist1.plot(50,cumulative = True) #这里很坑，它的纵坐标不是百分数，而是具体的数值"
   ]
  },
  {
   "cell_type": "code",
   "execution_count": 24,
   "metadata": {
    "collapsed": false
   },
   "outputs": [
    {
     "data": {
      "text/plain": [
       "9002"
      ]
     },
     "execution_count": 24,
     "metadata": {},
     "output_type": "execute_result"
    }
   ],
   "source": [
    "len(fdist1.hapaxes())  #这是text1中的hapaxes，即在一段文本中只出现一次的单词"
   ]
  },
  {
   "cell_type": "code",
   "execution_count": 25,
   "metadata": {
    "collapsed": true
   },
   "outputs": [],
   "source": [
    "V = set(text1)"
   ]
  },
  {
   "cell_type": "code",
   "execution_count": 26,
   "metadata": {
    "collapsed": false
   },
   "outputs": [
    {
     "data": {
      "text/plain": [
       "['circumnavigations',\n",
       " 'hermaphroditical',\n",
       " 'superstitiousness',\n",
       " 'Physiognomically',\n",
       " 'preternaturalness',\n",
       " 'uncomfortableness',\n",
       " 'uncompromisedness',\n",
       " 'CIRCUMNAVIGATION',\n",
       " 'characteristically',\n",
       " 'simultaneousness',\n",
       " 'undiscriminating',\n",
       " 'comprehensiveness',\n",
       " 'physiognomically',\n",
       " 'apprehensiveness',\n",
       " 'subterraneousness',\n",
       " 'supernaturalness',\n",
       " 'irresistibleness',\n",
       " 'circumnavigating',\n",
       " 'uninterpenetratingly',\n",
       " 'indispensableness',\n",
       " 'cannibalistically',\n",
       " 'indiscriminately',\n",
       " 'responsibilities',\n",
       " 'circumnavigation']"
      ]
     },
     "execution_count": 26,
     "metadata": {},
     "output_type": "execute_result"
    }
   ],
   "source": [
    "long_words = [w for w in V if len(w)>15]\n",
    "long_words   #通过列表推导生成长度大于15的单词"
   ]
  },
  {
   "cell_type": "code",
   "execution_count": 27,
   "metadata": {
    "collapsed": false
   },
   "outputs": [
    {
     "data": {
      "text/plain": [
       "[']]]]]]]]]]]]]]]]]]]]]',\n",
       " 'oooooooooooooonnnnnnnnnnnneeeeeeeeeeeeeeesssssssss',\n",
       " '!!!!!!!!!!!!!!!!!!!!!!!',\n",
       " '((((((((((((((((((((',\n",
       " 'huuuuuuuuuuuuuuuuuuuuuuuuuuuuuuuuuuugZ',\n",
       " 'muahssssssssssssssss',\n",
       " 'grrrrrrrrrrrrrrrrr',\n",
       " 'www.Wunderground.com',\n",
       " '[[[[[[[[[[[[[[[[[[',\n",
       " 'mikeeeeeeeeeeeeeeeeeeeeeeeeee',\n",
       " '(((((((((((((((((((((((',\n",
       " '!!!!!!!!!!!!!!!!',\n",
       " '...................',\n",
       " 'wooooooooooooohoooooooooooooooo',\n",
       " '(((((((((((((((((((((((((',\n",
       " '))))))))))))))))))))))))))))',\n",
       " 'WEEEEEEEEEEEEEEEEEE',\n",
       " 'weeeeeeeeeeeeeeeeeeeeeeeeed',\n",
       " 'weeeeeeeeeeeeeeee',\n",
       " 'niteeeeeeeeeeeeeeeeeee',\n",
       " 'Nooooooooooooooo',\n",
       " '<3333333333333333',\n",
       " 'raaaaaaaaaaaaaaaaaaaaaaaaaaaaa',\n",
       " 'bwahahahahahahahahahaha',\n",
       " 'BAAAAALLLLLLLLIIIIIIINNNNNNNNNNN',\n",
       " 'miiiiiiiiiiiiinnnnnnnnnnneeeeeeeeee',\n",
       " 'eeeeeeeeewwwwwwww',\n",
       " 'backfrontsidewaysandallaroundtheworld',\n",
       " '//www.wunderground.com/cgi-bin/findweather/getForecast?query=95953#FIR',\n",
       " '!!!!!!!!!!!!!!!!!!!!!!!!!!!!',\n",
       " '!!!!!!!!!!!!!!!!!!!!!!!!!!!!!!!!!!!!!!!!!!!!!!!!!!!!!!',\n",
       " 'iamahotniplickme',\n",
       " 'Mooooooooooooooooooooooooooo',\n",
       " 'wheeeeeeeeeeeeeeeeeeeeeeeeeeeeeeeeee',\n",
       " 'mmmmmmmmiiiiiiiiinnnnnnnnneeeeeeee',\n",
       " 'anyyyyyyyyyyyyyyyyy',\n",
       " 'agurlwithbigguns',\n",
       " '!!!!!!!!!!!!!!!!!!!!!!',\n",
       " 'muahsssssssssssssssssss',\n",
       " ')))))))))))))))))))))',\n",
       " ')))))))))))))))))',\n",
       " '........................',\n",
       " '((((((((((((((((((((((((',\n",
       " '#talkcity_adults',\n",
       " 'tatatatnanaantatat',\n",
       " '!!!!!!!!!!!!!!!!!!!!!!!!!!!',\n",
       " 'http://www.shadowbots.com',\n",
       " '((((((((((((((((((((((((((',\n",
       " 'ohhhhhhhhhhhhhhhh',\n",
       " 'http://forums.talkcity.com/tc-adults/start ',\n",
       " '.(..(.vMp3 vi.p.t.)..).',\n",
       " '))))))))))))))))))))))',\n",
       " 'llloooozzzzeeerrrrzzzzzzzzzzzzzzzzzzzzzzzzzzzzzzzzzzzzzzzzzzzzzzzzz',\n",
       " 'HHEEYYYYYYYYYYYYYYYYYYYYYYYYYYYYYYYYYYYYYYYYYYYYYYY',\n",
       " '..............................',\n",
       " '(((((((((((((((((',\n",
       " ')))))))))))))))))))))))))))))))',\n",
       " 'hahahahahahahahahahahahahahahaha',\n",
       " 'Bloooooooooooood',\n",
       " '................',\n",
       " '((((((((((((((((((',\n",
       " '--------------------',\n",
       " 'aaaaaaaaaaaaaaaaa',\n",
       " '.A.n.a.c.?.n.?.a.',\n",
       " 'bbbbbyyyyyyyeeeeeeeee',\n",
       " '<33333333333333333',\n",
       " 'boooooooooooglyyyyyy',\n",
       " 'HolocaustYourMom',\n",
       " '(((((((((((((((((((((',\n",
       " 'yuuuuuuuuuuuummmmmmmmmmmm',\n",
       " 'heeheeheeheeheehee',\n",
       " '....................',\n",
       " 'lllllllliiiiiiiiiikeee',\n",
       " '..................',\n",
       " '.(..(.vMp3 v1.7.4.).)',\n",
       " 'iamahotnipwithpics',\n",
       " 'heyyyyyyyyyyyyyy',\n",
       " 'miiiiiinnnnnnnnnneeeeeeee',\n",
       " 'cooooooooookiiiiiiiiiiiieeeeeeeeeeee',\n",
       " 'iamahotnipwithhotnippics',\n",
       " 'oooooooooooglyyyyyyyy',\n",
       " ')))))))))))))))))))',\n",
       " 'aiiiiiiiiiiiiiiiiiiiiiiii',\n",
       " 'woooooooooaaaahhhhhhhhhhhh']"
      ]
     },
     "execution_count": 27,
     "metadata": {},
     "output_type": "execute_result"
    }
   ],
   "source": [
    "text5_words = [w for w in set(text5) if len(w)> 15]\n",
    "text5_words  "
   ]
  },
  {
   "cell_type": "markdown",
   "metadata": {},
   "source": [
    "## 然而我们应该看到这种方法的局限性，它生成的都是这样一些没有什么价值的文字，但是他们都只用到一两次，所以我们需要通过同时控制单词长度和频率找到有用的信息"
   ]
  },
  {
   "cell_type": "code",
   "execution_count": 28,
   "metadata": {
    "collapsed": false
   },
   "outputs": [
    {
     "data": {
      "text/plain": [
       "['stranger',\n",
       " 'together',\n",
       " 'creature',\n",
       " 'suddenly',\n",
       " 'Queequeg',\n",
       " 'thousand',\n",
       " 'standing',\n",
       " 'whatever',\n",
       " 'touching',\n",
       " 'particular',\n",
       " 'themselves',\n",
       " 'peculiar',\n",
       " 'harpooneers',\n",
       " 'whalemen',\n",
       " 'wondrous',\n",
       " 'something',\n",
       " 'Nantucket',\n",
       " 'sometimes',\n",
       " 'whaleman',\n",
       " 'Starbuck',\n",
       " 'especially',\n",
       " 'harpooneer',\n",
       " 'therefore',\n",
       " 'Tashtego',\n",
       " 'business',\n",
       " 'straight',\n",
       " 'Leviathan',\n",
       " 'anything']"
      ]
     },
     "execution_count": 28,
     "metadata": {},
     "output_type": "execute_result"
    }
   ],
   "source": [
    "text1_words = [w for w in set(text1) if len(w)> 7 and fdist1[w]>40]  #《白鲸记》中长度大于7并且词频大于40的单词\n",
    "text1_words"
   ]
  },
  {
   "cell_type": "code",
   "execution_count": 29,
   "metadata": {
    "collapsed": false
   },
   "outputs": [],
   "source": [
    "#bigrams(['I','love','u'])  #bigrams无法实现"
   ]
  },
  {
   "cell_type": "code",
   "execution_count": 30,
   "metadata": {
    "collapsed": false
   },
   "outputs": [
    {
     "name": "stdout",
     "output_type": "stream",
     "text": [
      "Sperm Whale; Moby Dick; White Whale; old man; Captain Ahab; sperm\n",
      "whale; Right Whale; Captain Peleg; New Bedford; Cape Horn; cried Ahab;\n",
      "years ago; lower jaw; never mind; Father Mapple; cried Stubb; chief\n",
      "mate; white whale; ivory leg; one hand\n"
     ]
    }
   ],
   "source": [
    "text1.collocations()  #统计异乎寻常连在一起的两个单词，即找到短语 collocations意为搭配"
   ]
  },
  {
   "cell_type": "markdown",
   "metadata": {},
   "source": [
    "fdist = FreqDist(text5)  创建包含给定样本的频率分布\n",
    "fdist.inc('Tony')        增加样本                      -------(Python3 已失效)\n",
    "fdist['monstrous']       计数给定样本出现的次数\n",
    "fdist.freq('monstrous')  给定样本的频率\n",
    "fdist.N()                样本总数\n",
    "fdist.keys()             以频率递减顺序排序的样本链表     -----（并不是，没有顺序）\n",
    "for sample in fdist:     以频率递减的顺序遍历样本\n",
    "fdist.max()              数值最大的样本\n",
    "fdist.tabulate()         绘制频率分布表                 ------(实现为乱码)\n",
    "fdist.plot()             绘制频率分布图\n",
    "fdist.plot(cumulative=True)   绘制累积频率分布图\n",
    "fdist1 < fdist2          测试样本在 fdist1 中出现的频率是否小于 fdist2"
   ]
  },
  {
   "cell_type": "code",
   "execution_count": 31,
   "metadata": {
    "collapsed": false
   },
   "outputs": [
    {
     "data": {
      "text/plain": [
       "<Text: Wall Street Journal>"
      ]
     },
     "execution_count": 31,
     "metadata": {},
     "output_type": "execute_result"
    }
   ],
   "source": [
    "text7  #华尔街日报"
   ]
  },
  {
   "cell_type": "code",
   "execution_count": 32,
   "metadata": {
    "collapsed": false
   },
   "outputs": [
    {
     "data": {
      "text/plain": [
       "['Stock-index',\n",
       " 'index-arbitrage',\n",
       " 'index-fund',\n",
       " 'index-options',\n",
       " 'index-related',\n",
       " 'stock-index']"
      ]
     },
     "execution_count": 32,
     "metadata": {},
     "output_type": "execute_result"
    }
   ],
   "source": [
    "sorted([w for w in set(text7) if '-' in w and 'index' in w])"
   ]
  },
  {
   "cell_type": "code",
   "execution_count": 33,
   "metadata": {
    "collapsed": false
   },
   "outputs": [
    {
     "data": {
      "text/plain": [
       "['Abelmizraim',\n",
       " 'Allonbachuth',\n",
       " 'Beerlahairoi',\n",
       " 'Canaanitish',\n",
       " 'Chedorlaomer',\n",
       " 'Girgashites',\n",
       " 'Hazarmaveth',\n",
       " 'Hazezontamar',\n",
       " 'Ishmeelites',\n",
       " 'Jegarsahadutha',\n",
       " 'Jehovahjireh',\n",
       " 'Kirjatharba',\n",
       " 'Melchizedek',\n",
       " 'Mesopotamia',\n",
       " 'Peradventure',\n",
       " 'Philistines',\n",
       " 'Zaphnathpaaneah']"
      ]
     },
     "execution_count": 33,
     "metadata": {},
     "output_type": "execute_result"
    }
   ],
   "source": [
    "sorted([wd for wd in set(text3) if wd.istitle() and len(wd) > 10]) #istitle()检测是否首字母大写 ， title3是《创世纪》"
   ]
  },
  {
   "cell_type": "code",
   "execution_count": 34,
   "metadata": {
    "collapsed": false
   },
   "outputs": [
    {
     "data": {
      "text/plain": [
       "[',', '.', '29', '61', 'Nov.', 'Pierre', 'Vinken']"
      ]
     },
     "execution_count": 34,
     "metadata": {},
     "output_type": "execute_result"
    }
   ],
   "source": [
    "sorted([w for w in set(sent7) if not w.islower()]) "
   ]
  },
  {
   "cell_type": "code",
   "execution_count": 35,
   "metadata": {
    "collapsed": false
   },
   "outputs": [
    {
     "data": {
      "text/plain": [
       "['ancient',\n",
       " 'ceiling',\n",
       " 'conceit',\n",
       " 'conceited',\n",
       " 'conceive',\n",
       " 'conscience',\n",
       " 'conscientious',\n",
       " 'conscientiously',\n",
       " 'deceitful',\n",
       " 'deceive',\n",
       " 'deceived',\n",
       " 'deceiving',\n",
       " 'deficiencies',\n",
       " 'deficiency',\n",
       " 'deficient',\n",
       " 'delicacies',\n",
       " 'excellencies',\n",
       " 'fancied',\n",
       " 'insufficiency',\n",
       " 'insufficient',\n",
       " 'legacies',\n",
       " 'perceive',\n",
       " 'perceived',\n",
       " 'perceiving',\n",
       " 'prescience',\n",
       " 'prophecies',\n",
       " 'receipt',\n",
       " 'receive',\n",
       " 'received',\n",
       " 'receiving',\n",
       " 'society',\n",
       " 'species',\n",
       " 'sufficient',\n",
       " 'sufficiently',\n",
       " 'undeceive',\n",
       " 'undeceiving']"
      ]
     },
     "execution_count": 35,
     "metadata": {},
     "output_type": "execute_result"
    }
   ],
   "source": [
    "sorted([t for t in set(text2) if 'cie' in t or 'cei' in t]) #包含cie或cei的单词"
   ]
  },
  {
   "cell_type": "markdown",
   "metadata": {},
   "source": [
    "# 下面要做的是通过代码清洗掉标点符号，并且将仅大小写不同的单词合并"
   ]
  },
  {
   "cell_type": "code",
   "execution_count": 36,
   "metadata": {
    "collapsed": false
   },
   "outputs": [
    {
     "data": {
      "text/plain": [
       "260819"
      ]
     },
     "execution_count": 36,
     "metadata": {},
     "output_type": "execute_result"
    }
   ],
   "source": [
    "len(text1) #所有单词"
   ]
  },
  {
   "cell_type": "code",
   "execution_count": 37,
   "metadata": {
    "collapsed": false
   },
   "outputs": [
    {
     "data": {
      "text/plain": [
       "19317"
      ]
     },
     "execution_count": 37,
     "metadata": {},
     "output_type": "execute_result"
    }
   ],
   "source": [
    "len(set(text1)) # 合并出现相同的单词"
   ]
  },
  {
   "cell_type": "code",
   "execution_count": 38,
   "metadata": {
    "collapsed": false
   },
   "outputs": [
    {
     "data": {
      "text/plain": [
       "17231"
      ]
     },
     "execution_count": 38,
     "metadata": {},
     "output_type": "execute_result"
    }
   ],
   "source": [
    "len(set([word.lower() for word in text1]))  #合并大小写不同的单词"
   ]
  },
  {
   "cell_type": "code",
   "execution_count": 39,
   "metadata": {
    "collapsed": false
   },
   "outputs": [
    {
     "data": {
      "text/plain": [
       "16948"
      ]
     },
     "execution_count": 39,
     "metadata": {},
     "output_type": "execute_result"
    }
   ],
   "source": [
    "len(set([word.lower() for word in text1 if word.isalpha()]))  #该行完成任务，然而他是错的！！！ .isalpha()仅当字母时返回True"
   ]
  },
  {
   "cell_type": "code",
   "execution_count": 40,
   "metadata": {
    "collapsed": false
   },
   "outputs": [],
   "source": [
    "#babelize_shell 已不可用"
   ]
  },
  {
   "cell_type": "markdown",
   "metadata": {},
   "source": [
    "### 与chatbot对话"
   ]
  },
  {
   "cell_type": "code",
   "execution_count": 41,
   "metadata": {
    "collapsed": false
   },
   "outputs": [
    {
     "name": "stdout",
     "output_type": "stream",
     "text": [
      "***************************************************************************\n",
      "                                Zen Chatbot!                               \n",
      "***************************************************************************\n",
      "         \"Look beyond mere words and letters - look into your mind\"        \n",
      "* Talk your way to truth with Zen Chatbot.\n",
      "* Type 'quit' when you have had enough.\n",
      "***************************************************************************\n",
      "Welcome, my child.\n",
      ">quit\n",
      "I pour out a cup of water. Is the cup empty?\n"
     ]
    }
   ],
   "source": [
    "import nltk\n",
    "nltk.chat.zen_chat()"
   ]
  },
  {
   "cell_type": "code",
   "execution_count": 42,
   "metadata": {
    "collapsed": false
   },
   "outputs": [
    {
     "name": "stdout",
     "output_type": "stream",
     "text": [
      "Talk to the program by typing in plain English, using normal upper-\n",
      "and lower-case letters and punctuation.  Enter \"quit\" when done.\n",
      "========================================================================\n",
      "I suppose I should say hello.\n",
      ">quit\n",
      "Change the subject before I die of fatal boredom.\n"
     ]
    }
   ],
   "source": [
    "nltk.chat.rude_chat()"
   ]
  },
  {
   "cell_type": "markdown",
   "metadata": {},
   "source": [
    "## 1.8练习： "
   ]
  },
  {
   "cell_type": "markdown",
   "metadata": {},
   "source": [
    "6.制作《理智与情感》中四个主角:Elinor, Marianne,Edward 和 Willoughby 的分布图。\n",
    "在这部小说中关于男性和女性所扮演的不同角色,你能观察到什么?你能找出一对夫妻\n",
    "吗?"
   ]
  },
  {
   "cell_type": "code",
   "execution_count": 43,
   "metadata": {
    "collapsed": false
   },
   "outputs": [
    {
     "data": {
      "text/plain": [
       "<Text: Sense and Sensibility by Jane Austen 1811>"
      ]
     },
     "execution_count": 43,
     "metadata": {},
     "output_type": "execute_result"
    }
   ],
   "source": [
    "text2  #理智与情感"
   ]
  },
  {
   "cell_type": "code",
   "execution_count": 44,
   "metadata": {
    "collapsed": false
   },
   "outputs": [
    {
     "data": {
      "image/png": "[encoded data removed]",
      "text/plain": [
       "<matplotlib.figure.Figure at 0x7f7e4dd7ea58>"
      ]
     },
     "metadata": {},
     "output_type": "display_data"
    }
   ],
   "source": [
    "text2.dispersion_plot(['Elinor','Marianne','Edward','Willoughby'])"
   ]
  },
  {
   "cell_type": "markdown",
   "metadata": {},
   "source": [
    "17.使用 text9.index()查找词 sunset 的索引值。你需要将这个词作为一个参数插入到圆括号之间。通过尝试和出错的过程中,找到完整的句子中包含这个词的切片。"
   ]
  },
  {
   "cell_type": "code",
   "execution_count": 45,
   "metadata": {
    "collapsed": false
   },
   "outputs": [
    {
     "data": {
      "text/plain": [
       "<Text: The Man Who Was Thursday by G . K . Chesterton 1908>"
      ]
     },
     "execution_count": 45,
     "metadata": {},
     "output_type": "execute_result"
    }
   ],
   "source": [
    "text9"
   ]
  },
  {
   "cell_type": "code",
   "execution_count": 46,
   "metadata": {
    "collapsed": false
   },
   "outputs": [
    {
     "data": {
      "text/plain": [
       "629"
      ]
     },
     "execution_count": 46,
     "metadata": {},
     "output_type": "execute_result"
    }
   ],
   "source": [
    "text9.index('sunset')"
   ]
  },
  {
   "cell_type": "code",
   "execution_count": 47,
   "metadata": {
    "collapsed": false
   },
   "outputs": [
    {
     "data": {
      "text/plain": [
       "'sunset'"
      ]
     },
     "execution_count": 47,
     "metadata": {},
     "output_type": "execute_result"
    }
   ],
   "source": [
    "text9[629]"
   ]
  },
  {
   "cell_type": "markdown",
   "metadata": {},
   "source": [
    "18.使用链表加法、set 和 sorted 操作,计算句子 sent1...sent8 的词汇表"
   ]
  },
  {
   "cell_type": "code",
   "execution_count": 48,
   "metadata": {
    "collapsed": false
   },
   "outputs": [],
   "source": [
    "sum = 0\n",
    "for i in range(1,9):\n",
    "    sum = sum + len(eval('sent'+str(i)))"
   ]
  },
  {
   "cell_type": "code",
   "execution_count": 49,
   "metadata": {
    "collapsed": false
   },
   "outputs": [
    {
     "data": {
      "text/plain": [
       "99"
      ]
     },
     "execution_count": 49,
     "metadata": {},
     "output_type": "execute_result"
    }
   ],
   "source": [
    "sum"
   ]
  },
  {
   "cell_type": "code",
   "execution_count": null,
   "metadata": {
    "collapsed": false
   },
   "outputs": [],
   "source": []
  },
  {
   "cell_type": "code",
   "execution_count": null,
   "metadata": {
    "collapsed": true
   },
   "outputs": [],
   "source": []
  }
 ],
 "metadata": {
  "kernelspec": {
   "display_name": "Python 3",
   "language": "python",
   "name": "python3"
  },
  "language_info": {
   "codemirror_mode": {
    "name": "ipython",
    "version": 3
   },
   "file_extension": ".py",
   "mimetype": "text/x-python",
   "name": "python",
   "nbconvert_exporter": "python",
   "pygments_lexer": "ipython3",
   "version": "3.6.0"
  }
 },
 "nbformat": 4,
 "nbformat_minor": 2
}
